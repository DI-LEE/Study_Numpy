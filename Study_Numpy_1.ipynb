{
 "cells": [
  {
   "cell_type": "code",
   "execution_count": 2,
   "id": "6bdd05b6",
   "metadata": {},
   "outputs": [],
   "source": [
    "import numpy as np"
   ]
  },
  {
   "cell_type": "markdown",
   "id": "b652f452",
   "metadata": {},
   "source": [
    "# ndarray\n",
    "* dtype\n",
    "* ndim\n",
    "* shape\n",
    "* size\n",
    "* dtype"
   ]
  },
  {
   "cell_type": "code",
   "execution_count": 36,
   "id": "6c677943",
   "metadata": {},
   "outputs": [
    {
     "name": "stdout",
     "output_type": "stream",
     "text": [
      "[1. 2. 3. 4. 5.]\n",
      "#Dimenstions =  1\n",
      "Dimension =  (5,)\n",
      "Size =  5\n",
      "Array type =  float64\n",
      "\n",
      "[1 2 3 4 5]\n",
      "Array type =  int16\n",
      "\n",
      "[1 2 3 4 5]\n",
      "Array type =  uint16\n"
     ]
    }
   ],
   "source": [
    "oneDim = np.array([1., 2,3,4,5]) #one dimensional array (vector)\n",
    "print(oneDim)\n",
    "print(\"#Dimenstions = \", oneDim.ndim)\n",
    "print(\"Dimension = \", oneDim.shape)\n",
    "print(\"Size = \", oneDim.size)\n",
    "print(\"Array type = \", oneDim.dtype)\n",
    "print()\n",
    "\n",
    "oneDim = np.array([1., 2,3,4,5], dtype = 'i2') #int 로 2byte casting\n",
    "print(oneDim)\n",
    "print(\"Array type = \", oneDim.dtype)\n",
    "\n",
    "print()\n",
    "oneDim = np.array([1., 2,3,4,5], dtype = 'u2') #unsigned int 로 2byte casting\n",
    "print(oneDim)\n",
    "print(\"Array type = \", oneDim.dtype)"
   ]
  },
  {
   "cell_type": "code",
   "execution_count": 24,
   "id": "8a6fd0d7",
   "metadata": {},
   "outputs": [
    {
     "name": "stdout",
     "output_type": "stream",
     "text": [
      "[[1 2]\n",
      " [3 4]\n",
      " [5 6]\n",
      " [7 8]]\n",
      "#Dimensions =  2\n",
      "Dimensions =  (4, 2)\n",
      "Size =  8\n",
      "Array type =  int32\n",
      "\n",
      "[[1. 2.]\n",
      " [3. 4.]\n",
      " [5. 6.]\n",
      " [7. 8.]]\n",
      "float64\n"
     ]
    }
   ],
   "source": [
    "twoDim = np.array([[1,2], [3,4], [5,6], [7,8]]) # two-demensional array(matrix)\n",
    "print(twoDim)\n",
    "print(\"#Dimensions = \", twoDim.ndim)\n",
    "print(\"Dimension = \", twoDim.shape)\n",
    "print(\"Size = \", twoDim.size)\n",
    "print(\"Array type = \", twoDim.dtype)\n",
    "print()\n",
    "twoDim = np.array([[1,2], [3,4], [5,6], [7,8]], dtype = float)\n",
    "print(twoDim)\n",
    "print(twoDim.dtype)\n"
   ]
  },
  {
   "cell_type": "code",
   "execution_count": 32,
   "id": "d8396b15",
   "metadata": {},
   "outputs": [
    {
     "name": "stdout",
     "output_type": "stream",
     "text": [
      "[['1' 'a' '3.0']\n",
      " ['2' 'b' '3.5']]\n",
      "#Dimensions =  2\n",
      "Dimension = (2, 3)\n",
      "Size =  6\n",
      "Array type =  <U32\n"
     ]
    }
   ],
   "source": [
    "arrFromTuple = np.array([(1, 'a', 3.0), (2, 'b', 3.5)]) #create ndarray from tuple\n",
    "print(arrFromTuple)\n",
    "print(\"#Dimensions = \", arrFromTuple.ndim)\n",
    "print(\"Dimension =\", arrFromTuple.shape)\n",
    "print(\"Size = \", arrFromTuple.size)\n",
    "print(\"Array type = \", arrFromTuple.dtype)"
   ]
  },
  {
   "cell_type": "code",
   "execution_count": 39,
   "id": "efdbd722",
   "metadata": {
    "scrolled": false
   },
   "outputs": [
    {
     "name": "stdout",
     "output_type": "stream",
     "text": [
      "[1 2]\n"
     ]
    },
    {
     "data": {
      "text/plain": [
       "(2,)"
      ]
     },
     "execution_count": 39,
     "metadata": {},
     "output_type": "execute_result"
    }
   ],
   "source": [
    "print(np.array([1,2]))\n",
    "np.array([1,2]).shape"
   ]
  },
  {
   "cell_type": "markdown",
   "id": "2ac263ee",
   "metadata": {},
   "source": [
    "*shape 은 행렬의 크기 mxn 이 아니라, 괄호 기준으로 안의 원소 개수라고 생각하면 편함*"
   ]
  },
  {
   "cell_type": "code",
   "execution_count": 12,
   "id": "356ad65e",
   "metadata": {
    "scrolled": true
   },
   "outputs": [
    {
     "name": "stdout",
     "output_type": "stream",
     "text": [
      "(1,)\n",
      "(2,)\n",
      "(2, 1)\n",
      "(2, 3)\n",
      "(1, 1, 1, 0)\n"
     ]
    }
   ],
   "source": [
    "print(np.array([1]).shape)\n",
    "print(np.array([1,2]).shape)\n",
    "print(np.array([[1],[2]]).shape)\n",
    "print(np.array([[1,2,3], [1,2,3]]).shape)\n",
    "print(np.array([[[[]]]]).shape)"
   ]
  },
  {
   "cell_type": "markdown",
   "id": "446166d0",
   "metadata": {},
   "source": [
    "## several built-in functions in numpy"
   ]
  },
  {
   "cell_type": "code",
   "execution_count": 52,
   "id": "baf0a9ae",
   "metadata": {},
   "outputs": [
    {
     "name": "stdout",
     "output_type": "stream",
     "text": [
      "[0.85544444 0.41694773 0.02145557 0.61611087 0.46766906]\n"
     ]
    }
   ],
   "source": [
    "print(np.random.rand(5)) #random number from uniform distribution(균일분포) between [0,1]"
   ]
  },
  {
   "cell_type": "code",
   "execution_count": 53,
   "id": "a0a59363",
   "metadata": {
    "scrolled": true
   },
   "outputs": [
    {
     "name": "stdout",
     "output_type": "stream",
     "text": [
      "[ 0.01663011 -0.39872475  0.67962909  0.20013382 -1.28366823]\n"
     ]
    }
   ],
   "source": [
    "print(np.random.randn(5)) #random numbers from a normal distribution(정규분포)"
   ]
  },
  {
   "cell_type": "code",
   "execution_count": 61,
   "id": "47a3c1e6",
   "metadata": {},
   "outputs": [
    {
     "name": "stdout",
     "output_type": "stream",
     "text": [
      "[-10  -8  -6  -4  -2   0   2   4   6   8]\n"
     ]
    }
   ],
   "source": [
    "print(np.arange(-10,10,2))"
   ]
  },
  {
   "cell_type": "code",
   "execution_count": 3,
   "id": "f61a5cfe",
   "metadata": {},
   "outputs": [
    {
     "name": "stdout",
     "output_type": "stream",
     "text": [
      "[0.         0.11111111 0.22222222 0.33333333 0.44444444 0.55555556\n",
      " 0.66666667 0.77777778 0.88888889 1.        ]\n"
     ]
    }
   ],
   "source": [
    "print(np.linspace(0,1,10))"
   ]
  },
  {
   "cell_type": "code",
   "execution_count": 60,
   "id": "83dcab6f",
   "metadata": {},
   "outputs": [
    {
     "name": "stdout",
     "output_type": "stream",
     "text": [
      "[1.e-03 1.e-02 1.e-01 1.e+00 1.e+01 1.e+02 1.e+03]\n"
     ]
    }
   ],
   "source": [
    "print(np.logspace(-3,3,7))"
   ]
  },
  {
   "cell_type": "markdown",
   "id": "f0500f12",
   "metadata": {},
   "source": [
    "# reshape\n",
    "* mxnxi 값이 행렬의 원소의 사이즈값이어야함\n",
    "* default 가 row 중심으로 먼저 채움\n",
    "    * ex) shape = (6,3,4,2,1,3) 이면 마지막 원소 index =-1 부터 채워짐. 3 -> 1-> 2-> 4-> 3-> 6"
   ]
  },
  {
   "cell_type": "code",
   "execution_count": 64,
   "id": "aa054258",
   "metadata": {
    "scrolled": false
   },
   "outputs": [
    {
     "name": "stdout",
     "output_type": "stream",
     "text": [
      "[[ 0  1  2  3]\n",
      " [ 4  5  6  7]\n",
      " [ 8  9 10 11]]\n"
     ]
    }
   ],
   "source": [
    "print(np.arange(12).reshape(3,4))"
   ]
  },
  {
   "cell_type": "code",
   "execution_count": 72,
   "id": "d38a1f33",
   "metadata": {
    "scrolled": true
   },
   "outputs": [
    {
     "name": "stdout",
     "output_type": "stream",
     "text": [
      "[[[ 0  1  2]\n",
      "  [ 3  4  5]]\n",
      "\n",
      " [[ 6  7  8]\n",
      "  [ 9 10 11]]]\n"
     ]
    }
   ],
   "source": [
    "print(np.arange(12).reshape(2,2,3))"
   ]
  },
  {
   "cell_type": "code",
   "execution_count": 74,
   "id": "8657ab88",
   "metadata": {},
   "outputs": [
    {
     "name": "stdout",
     "output_type": "stream",
     "text": [
      "[0.         0.11111111 0.22222222 0.33333333 0.44444444 0.55555556\n",
      " 0.66666667 0.77777778 0.88888889 1.        ]\n"
     ]
    }
   ],
   "source": [
    "#선형공간(1차원) 0~1 에서 10 으로 나눔\n",
    "print(np.linspace(0,1,10))"
   ]
  },
  {
   "cell_type": "code",
   "execution_count": 75,
   "id": "13849ef0",
   "metadata": {},
   "outputs": [
    {
     "name": "stdout",
     "output_type": "stream",
     "text": [
      "[1.e-03 1.e-02 1.e-01 1.e+00 1.e+01 1.e+02 1.e+03]\n"
     ]
    }
   ],
   "source": [
    "#logscale\n",
    "print(np.logspace(-3,3,7))"
   ]
  },
  {
   "cell_type": "code",
   "execution_count": 79,
   "id": "caedb00f",
   "metadata": {
    "scrolled": true
   },
   "outputs": [
    {
     "data": {
      "image/png": "[encoded data removed]",
      "text/plain": [
       "<Figure size 432x288 with 1 Axes>"
      ]
     },
     "metadata": {
      "needs_background": "light"
     },
     "output_type": "display_data"
    }
   ],
   "source": [
    "import matplotlib.pyplot as plt\n",
    "\n",
    "plt.plot(np.arange(11), np.logspace(0,10,11))\n",
    "plt.show()"
   ]
  },
  {
   "cell_type": "markdown",
   "id": "d1ebdf95",
   "metadata": {},
   "source": [
    "# 초기값 설정"
   ]
  },
  {
   "cell_type": "markdown",
   "id": "a966487b",
   "metadata": {},
   "source": [
    "0으로 이루어진 행렬"
   ]
  },
  {
   "cell_type": "code",
   "execution_count": 4,
   "id": "54b15b93",
   "metadata": {},
   "outputs": [
    {
     "name": "stdout",
     "output_type": "stream",
     "text": [
      "[[0. 0. 0.]\n",
      " [0. 0. 0.]]\n"
     ]
    }
   ],
   "source": [
    "print(np.zeros((2,3)))"
   ]
  },
  {
   "cell_type": "markdown",
   "id": "cde015b0",
   "metadata": {},
   "source": [
    "1로 이루어진 행렬"
   ]
  },
  {
   "cell_type": "code",
   "execution_count": 5,
   "id": "5d3de806",
   "metadata": {},
   "outputs": [
    {
     "name": "stdout",
     "output_type": "stream",
     "text": [
      "[[1. 1.]\n",
      " [1. 1.]\n",
      " [1. 1.]]\n"
     ]
    }
   ],
   "source": [
    "print(np.ones((3,2)))"
   ]
  },
  {
   "cell_type": "markdown",
   "id": "8007a7e7",
   "metadata": {},
   "source": [
    "항등행렬"
   ]
  },
  {
   "cell_type": "code",
   "execution_count": 7,
   "id": "e6884221",
   "metadata": {},
   "outputs": [
    {
     "name": "stdout",
     "output_type": "stream",
     "text": [
      "[[1. 0. 0.]\n",
      " [0. 1. 0.]\n",
      " [0. 0. 1.]]\n"
     ]
    }
   ],
   "source": [
    "print(np.eye(3)) #3x3 identity matrix (항등행렬)"
   ]
  },
  {
   "cell_type": "markdown",
   "id": "bf3d15d5",
   "metadata": {},
   "source": [
    "# indexing and slicing\n",
    "* index(view) vs copy 구분하기"
   ]
  },
  {
   "cell_type": "markdown",
   "id": "d6076145",
   "metadata": {},
   "source": [
    "> index slicing\n",
    "* only at ndarray, **slice is pointer**"
   ]
  },
  {
   "cell_type": "code",
   "execution_count": 8,
   "id": "ef816ca7",
   "metadata": {
    "scrolled": true
   },
   "outputs": [
    {
     "name": "stdout",
     "output_type": "stream",
     "text": [
      "[-5 -4 -3 -2 -1  0  1  2  3  4]\n",
      "[-2 -1]\n",
      "[1000 1000]\n",
      "[  -5   -4   -3 1000 1000    0    1    2    3    4]\n"
     ]
    }
   ],
   "source": [
    "x = np.arange(-5,5)\n",
    "print(x)\n",
    "#y is a slice, pointer to a subarray in x\n",
    "y = x[3:5]\n",
    "print(y)\n",
    "#modifying the value of y will change x\n",
    "y[:] = 1000\n",
    "\n",
    "print(y)\n",
    "print(x)"
   ]
  },
  {
   "cell_type": "markdown",
   "id": "8198a81b",
   "metadata": {},
   "source": [
    "> copy"
   ]
  },
  {
   "cell_type": "code",
   "execution_count": 9,
   "id": "05978aa0",
   "metadata": {},
   "outputs": [
    {
     "name": "stdout",
     "output_type": "stream",
     "text": [
      "[-5 -4 -3 -2 -1  0  1  2  3  4]\n",
      "[-2 -1]\n",
      "[500 500]\n",
      "[-5 -4 -3 -2 -1  0  1  2  3  4]\n"
     ]
    }
   ],
   "source": [
    "x = np.arange(-5,5)\n",
    "print(x)\n",
    "\n",
    "z = x[3:5].copy() #copy of subarray\n",
    "print(z)\n",
    "\n",
    "z[:] = 500 #not affect x\n",
    "\n",
    "print(z)\n",
    "print(x)"
   ]
  },
  {
   "cell_type": "markdown",
   "id": "dfad6a12",
   "metadata": {},
   "source": [
    "#### 헷갈리지 않기\n",
    "* 리스트에서는 slicing 은 pointer 가 아니다."
   ]
  },
  {
   "cell_type": "code",
   "execution_count": 98,
   "id": "4e8c24bb",
   "metadata": {},
   "outputs": [
    {
     "name": "stdout",
     "output_type": "stream",
     "text": [
      "[-5 -4 -3 -2 -1  0  1  2  3  4]\n",
      "[-5, -4, -3, -2, -1, 0, 1, 2, 3, 4]\n",
      "[-2, 1000]\n",
      "[-5, -4, -3, -2, -1, 0, 1, 2, 3, 4]\n"
     ]
    }
   ],
   "source": [
    "x = np.arange(-5,5)\n",
    "print(x)\n",
    "#list\n",
    "x = list(x)\n",
    "print(x)\n",
    "\n",
    "y = x[3:5] # just copy, not pointer\n",
    "y[1] = 1000\n",
    "print(y)\n",
    "print(x)"
   ]
  },
  {
   "cell_type": "code",
   "execution_count": 110,
   "id": "9aa06f2c",
   "metadata": {},
   "outputs": [
    {
     "name": "stdout",
     "output_type": "stream",
     "text": [
      "[[ 1  2  3  4]\n",
      " [ 5  6  7  8]\n",
      " [ 9 10 11 12]]\n",
      "\n",
      "[[ 3  4]\n",
      " [11 12]]\n",
      "<class 'numpy.ndarray'>\n",
      "\n",
      "[[1000 1000]\n",
      " [1000 1000]]\n",
      "[[   1    2 1000 1000]\n",
      " [   5    6    7    8]\n",
      " [   9   10 1000 1000]]\n",
      "\n",
      "[[3000000    1000]\n",
      " [   1000    1000]]\n",
      "[[      1       2 3000000    1000]\n",
      " [      5       6       7       8]\n",
      " [      9      10    1000    1000]]\n"
     ]
    }
   ],
   "source": [
    "my2darr = np.array([[1,2,3,4], [5,6,7,8], [9,10,11,12]]) # #dimensions = 2, dimenstion = (3,4)\n",
    "print(my2darr)\n",
    "print()\n",
    "\n",
    "sliced = my2darr[::2, 2:] #applying skipper\n",
    "print(sliced)\n",
    "print(type(sliced))\n",
    "print()\n",
    "\n",
    "sliced[:,:] = 1000\n",
    "print(sliced)\n",
    "print(my2darr)\n",
    "print()\n",
    "\n",
    "sliced[0,0] = 3000000\n",
    "print(sliced)\n",
    "print(my2darr)"
   ]
  },
  {
   "cell_type": "markdown",
   "id": "7b9ead6c",
   "metadata": {},
   "source": [
    "# Fancy indexing"
   ]
  },
  {
   "cell_type": "code",
   "execution_count": 117,
   "id": "f7934031",
   "metadata": {
    "scrolled": true
   },
   "outputs": [
    {
     "name": "stdout",
     "output_type": "stream",
     "text": [
      "[0 1 2 3 4 5 6 7 8 9]\n",
      "[0 1 2 3]\n"
     ]
    }
   ],
   "source": [
    "#1차원\n",
    "a = np.arange(10)\n",
    "print(a)\n",
    "print(a[[0,1,2,3]])"
   ]
  },
  {
   "cell_type": "code",
   "execution_count": 132,
   "id": "dce05a02",
   "metadata": {},
   "outputs": [
    {
     "name": "stdout",
     "output_type": "stream",
     "text": [
      "[[ 0  1  2  3  4]\n",
      " [ 5  6  7  8  9]\n",
      " [10 11 12 13 14]\n",
      " [15 16 17 18 19]]\n",
      "\n",
      "[[ 0  1  2  3  4]\n",
      " [10 11 12 13 14]]\n",
      "\n",
      "[[13 14 11]\n",
      " [18 19 16]]\n",
      "\n",
      "[[8 9]\n",
      " [8 9]\n",
      " [8 9]\n",
      " [8 9]\n",
      " [8 9]\n",
      " [3 4]\n",
      " [3 4]]\n",
      "\n",
      "[[ 0  1  2  0  0]\n",
      " [ 5  6  7  0  0]\n",
      " [10 11 12 13 14]\n",
      " [15 16 17 18 19]]\n"
     ]
    }
   ],
   "source": [
    "#2차원\n",
    "b = np.arange(20).reshape(4,5)\n",
    "print(b)\n",
    "print()\n",
    "print(b[[0,2],:]) \n",
    "print()\n",
    "print(b[2:, [3,4,1]])\n",
    "print()\n",
    "print(b[[1,1,1,1,1,0,0], 3:])\n",
    "print()\n",
    "b[[1,1,1,1,1,0,0], 3:] = 0 #slicing, so this is pointer that can change value\n",
    "print(b)"
   ]
  },
  {
   "cell_type": "markdown",
   "id": "94f41082",
   "metadata": {},
   "source": [
    "# Boolean indexing\n",
    "> bitwise logical operator (비트연산자)를 사용해야함\n",
    "* `and,or` 대신 `| & ~` 를 사용해야함 \n",
    " * 괄호 유의"
   ]
  },
  {
   "cell_type": "code",
   "execution_count": 123,
   "id": "7da923be",
   "metadata": {},
   "outputs": [
    {
     "name": "stdout",
     "output_type": "stream",
     "text": [
      "[1 3]\n"
     ]
    }
   ],
   "source": [
    "x = np.array([1,2,3])\n",
    "print(x[[True,False,True]])"
   ]
  },
  {
   "cell_type": "code",
   "execution_count": 13,
   "id": "ad8ef3d6",
   "metadata": {
    "scrolled": false
   },
   "outputs": [
    {
     "name": "stdout",
     "output_type": "stream",
     "text": [
      "[[ 0  1  2  3  4  5  6]\n",
      " [ 7  8  9 10 11 12 13]\n",
      " [14 15 16 17 18 19 20]\n",
      " [21 22 23 24 25 26 27]\n",
      " [28 29 30 31 32 33 34]]\n",
      "[[False False False False False False False]\n",
      " [False False False False False False False]\n",
      " [False False False False False False False]\n",
      " [ True  True  True  True  True  True  True]\n",
      " [ True  True  True  True  True  True  True]]\n",
      "\n"
     ]
    }
   ],
   "source": [
    "y = np.arange(35).reshape(5,7)\n",
    "b = y>20\n",
    "print(y)\n",
    "print(b)\n",
    "print()"
   ]
  },
  {
   "cell_type": "markdown",
   "id": "dbf7bac3",
   "metadata": {},
   "source": [
    "## boolean filtering result is always one-dimensional\n",
    "*because True, False's location is scattered and can't be ndarray<br>*\n",
    "ex) [[T,T,F,F,F], [T,T,F,F,T]] can't be ndarray So just return one-dimension"
   ]
  },
  {
   "cell_type": "code",
   "execution_count": 15,
   "id": "691ea3ca",
   "metadata": {},
   "outputs": [
    {
     "name": "stdout",
     "output_type": "stream",
     "text": [
      "[21 22 23 24 25 26 27 28 29 30 31 32 33 34]\n",
      "[1000 1000 1000   24   25   26   27   28   29   30   31   32   33   34]\n",
      "[[ 0  1  2  3  4  5  6]\n",
      " [ 7  8  9 10 11 12 13]\n",
      " [14 15 16 17 18 19 20]\n",
      " [21 22 23 24 25 26 27]\n",
      " [28 29 30 31 32 33 34]]\n"
     ]
    }
   ],
   "source": [
    "t = y[b] #it's just a copy, not indexing\n",
    "print(y[b]) \n",
    "t[:3] = 1000\n",
    "print(t)\n",
    "print(y)"
   ]
  },
  {
   "cell_type": "code",
   "execution_count": 16,
   "id": "75d52a09",
   "metadata": {},
   "outputs": [
    {
     "name": "stdout",
     "output_type": "stream",
     "text": [
      "[[ 0  1  2  3  4  5  6]\n",
      " [ 7  8  9 10 11 12 13]\n",
      " [14 15 16 17 18 19 20]\n",
      " [21 22 23 24 25 26 27]\n",
      " [28 29 30 31 32 33 34]]\n",
      "[[ 0  1  0  3  0  5  0]\n",
      " [ 7  0  9  0 11  0 13]\n",
      " [ 0 15  0 17  0 19  0]\n",
      " [21  0 23  0 25  0 27]\n",
      " [ 0 29  0 31  0 33  0]]\n"
     ]
    }
   ],
   "source": [
    "M = np.arange(35).reshape(5,7)\n",
    "print(M)\n",
    "\n",
    "M[M%2 == 0] = 0\n",
    "print(M)"
   ]
  },
  {
   "cell_type": "code",
   "execution_count": 17,
   "id": "f8890d49",
   "metadata": {},
   "outputs": [
    {
     "name": "stdout",
     "output_type": "stream",
     "text": [
      "[[ 0  1  2  3  4  5  6]\n",
      " [ 7  8  9 10 11 12 13]\n",
      " [14 15 16 17 18 19 20]\n",
      " [21 22 23 24 25 26 27]\n",
      " [28 29 30 31 32 33 34]]\n",
      "[ -1  -3  -5  -7  -9 -11 -13 -15 -17 -19 -21 -23 -25 -27 -29 -31 -33]\n"
     ]
    }
   ],
   "source": [
    "M = np.arange(35).reshape(5,7)\n",
    "print(M)\n",
    "\n",
    "M = -M[M%2 ==1] #filtering result always one-dimension\n",
    "print(M)"
   ]
  },
  {
   "cell_type": "code",
   "execution_count": 23,
   "id": "1073cebf",
   "metadata": {},
   "outputs": [
    {
     "name": "stdout",
     "output_type": "stream",
     "text": [
      "[[ 0  1  2  3  4  5  6]\n",
      " [ 7  8  9 10 11 12 13]\n",
      " [14 15 16 17 18 19 20]\n",
      " [21 22 23 24 25 26 27]\n",
      " [28 29 30 31 32 33 34]]\n",
      "[[  0  -1   2  -3   4  -5   6]\n",
      " [ -7   8  -9  10 -11  12 -13]\n",
      " [ 14 -15  16 -17  18 -19  20]\n",
      " [-21  22 -23  24 -25  26 -27]\n",
      " [ 28 -29  30 -31  32 -33  34]]\n"
     ]
    }
   ],
   "source": [
    "M = np.arange(35).reshape(5,7)\n",
    "print(M)\n",
    "\n",
    "M[M%2 == 1] = -M[M%2 ==1] \n",
    "print(M)"
   ]
  },
  {
   "cell_type": "markdown",
   "id": "f97c2351",
   "metadata": {},
   "source": [
    "# boolean masking\n",
    "* np.array()"
   ]
  },
  {
   "cell_type": "code",
   "execution_count": 24,
   "id": "57100b52",
   "metadata": {},
   "outputs": [
    {
     "name": "stdout",
     "output_type": "stream",
     "text": [
      "[[ 0  1  2  3  4  5  6]\n",
      " [ 7  8  9 10 11 12 13]\n",
      " [14 15 16 17 18 19 20]\n",
      " [21 22 23 24 25 26 27]\n",
      " [28 29 30 31 32 33 34]]\n",
      "\n",
      "[[  0  -1   2  -3   4  -5   6]\n",
      " [ -7   8  -9  10 -11  12 -13]\n",
      " [ 14 -15  16 -17  18 -19  20]\n",
      " [-21  22 -23  24 -25  26 -27]\n",
      " [ 28 -29  30 -31  32 -33  34]]\n"
     ]
    }
   ],
   "source": [
    "M = np.arange(35).reshape(5,7)\n",
    "print(M)\n",
    "print()\n",
    "print(np.where(M%2 ==0, M, -M)) #삼항연산자와 유사\n"
   ]
  }
 ],
 "metadata": {
  "kernelspec": {
   "display_name": "Python 3 (ipykernel)",
   "language": "python",
   "name": "python3"
  },
  "language_info": {
   "codemirror_mode": {
    "name": "ipython",
    "version": 3
   },
   "file_extension": ".py",
   "mimetype": "text/x-python",
   "name": "python",
   "nbconvert_exporter": "python",
   "pygments_lexer": "ipython3",
   "version": "3.9.7"
  }
 },
 "nbformat": 4,
 "nbformat_minor": 5
}
