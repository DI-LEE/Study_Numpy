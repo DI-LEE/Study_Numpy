{
 "cells": [
  {
   "cell_type": "code",
   "execution_count": 3,
   "id": "740bd16b",
   "metadata": {},
   "outputs": [],
   "source": [
    "import numpy as np"
   ]
  },
  {
   "cell_type": "markdown",
   "id": "b307233c",
   "metadata": {},
   "source": [
    "# Axis with np.sum()\n",
    "shape = (0,1,2,3,4,5)\n",
    "(axis=0, axis=1, axis=2, axis=3, axis=4, axis=5)"
   ]
  },
  {
   "cell_type": "code",
   "execution_count": 8,
   "id": "7e6618fe",
   "metadata": {
    "scrolled": true
   },
   "outputs": [
    {
     "name": "stdout",
     "output_type": "stream",
     "text": [
      "[[0 0 0]\n",
      " [1 1 1]]\n",
      "(2, 3)\n"
     ]
    }
   ],
   "source": [
    "x = np.array([[0,0,0],[1,1,1]])\n",
    "print(x)\n",
    "print(x.shape)"
   ]
  },
  {
   "cell_type": "code",
   "execution_count": 9,
   "id": "c5ee000d",
   "metadata": {
    "scrolled": true
   },
   "outputs": [
    {
     "data": {
      "text/plain": [
       "3"
      ]
     },
     "execution_count": 9,
     "metadata": {},
     "output_type": "execute_result"
    }
   ],
   "source": [
    "x.sum()"
   ]
  },
  {
   "cell_type": "code",
   "execution_count": null,
   "id": "ec1099b5",
   "metadata": {},
   "outputs": [],
   "source": [
    "### axis=0"
   ]
  },
  {
   "cell_type": "code",
   "execution_count": 10,
   "id": "077bd339",
   "metadata": {},
   "outputs": [
    {
     "data": {
      "text/plain": [
       "array([1, 1, 1])"
      ]
     },
     "execution_count": 10,
     "metadata": {},
     "output_type": "execute_result"
    }
   ],
   "source": [
    "x.sum(axis=0)"
   ]
  },
  {
   "cell_type": "code",
   "execution_count": 21,
   "id": "a2fa96b8",
   "metadata": {},
   "outputs": [
    {
     "data": {
      "text/plain": [
       "array([0, 3])"
      ]
     },
     "execution_count": 21,
     "metadata": {},
     "output_type": "execute_result"
    }
   ],
   "source": [
    "x.sum(axis=1)"
   ]
  },
  {
   "cell_type": "markdown",
   "id": "05b22d8e",
   "metadata": {},
   "source": [
    "# Distance\n",
    "* use np.sum()"
   ]
  },
  {
   "cell_type": "code",
   "execution_count": 28,
   "id": "37d19feb",
   "metadata": {},
   "outputs": [],
   "source": [
    "x = np.array([0,0,0])\n",
    "y = np.array([1,1,1])"
   ]
  },
  {
   "cell_type": "code",
   "execution_count": 30,
   "id": "5896983c",
   "metadata": {},
   "outputs": [
    {
     "data": {
      "text/plain": [
       "1.7320508075688772"
      ]
     },
     "execution_count": 30,
     "metadata": {},
     "output_type": "execute_result"
    }
   ],
   "source": [
    "np.sqrt(np.sum((x-y)**2,axis=0))"
   ]
  },
  {
   "cell_type": "markdown",
   "id": "1191ff90",
   "metadata": {},
   "source": [
    "# Axis with np.sort()"
   ]
  },
  {
   "cell_type": "code",
   "execution_count": 36,
   "id": "4546940d",
   "metadata": {},
   "outputs": [
    {
     "name": "stdout",
     "output_type": "stream",
     "text": [
      "[[6 5 4]\n",
      " [3 2 1]]\n"
     ]
    }
   ],
   "source": [
    "x = np.arange(2*3,0,-1).reshape(2,3)\n",
    "print(x)"
   ]
  },
  {
   "cell_type": "code",
   "execution_count": 38,
   "id": "d23f1f31",
   "metadata": {},
   "outputs": [
    {
     "name": "stdout",
     "output_type": "stream",
     "text": [
      "sort with axis=0\n",
      " [[3 2 1]\n",
      " [6 5 4]]\n"
     ]
    }
   ],
   "source": [
    "print('sort with axis=0\\n',np.sort(x, axis=0))"
   ]
  },
  {
   "cell_type": "code",
   "execution_count": 39,
   "id": "192b063b",
   "metadata": {},
   "outputs": [
    {
     "name": "stdout",
     "output_type": "stream",
     "text": [
      "sort with axis=1\n",
      " [[4 5 6]\n",
      " [1 2 3]]\n"
     ]
    }
   ],
   "source": [
    "print('sort with axis=1\\n', np.sort(x, axis=1))"
   ]
  },
  {
   "cell_type": "code",
   "execution_count": 40,
   "id": "ae1f4853",
   "metadata": {},
   "outputs": [
    {
     "name": "stdout",
     "output_type": "stream",
     "text": [
      "sort with axis=-1\n",
      " [[4 5 6]\n",
      " [1 2 3]]\n"
     ]
    }
   ],
   "source": [
    "print('sort with axis=-1\\n', np.sort(x, axis=-1))"
   ]
  },
  {
   "cell_type": "code",
   "execution_count": 41,
   "id": "4cf63c87",
   "metadata": {},
   "outputs": [
    {
     "name": "stdout",
     "output_type": "stream",
     "text": [
      "sort with axis=None [1 2 3 4 5 6]\n"
     ]
    }
   ],
   "source": [
    "print('sort with axis=None', np.sort(x, axis=None))"
   ]
  },
  {
   "cell_type": "code",
   "execution_count": 43,
   "id": "df7da105",
   "metadata": {},
   "outputs": [
    {
     "name": "stdout",
     "output_type": "stream",
     "text": [
      "[[4 5 6]\n",
      " [1 2 3]]\n"
     ]
    }
   ],
   "source": [
    "print(np.sort(x))"
   ]
  },
  {
   "cell_type": "markdown",
   "id": "70bf7158",
   "metadata": {},
   "source": [
    "# several sort\n",
    "* sort()\n",
    "* argsort()\n",
    "* partition()\n",
    "* argpartition()"
   ]
  },
  {
   "cell_type": "code",
   "execution_count": 46,
   "id": "2784248d",
   "metadata": {},
   "outputs": [
    {
     "name": "stdout",
     "output_type": "stream",
     "text": [
      "x\n",
      " [  4  10   1  20  45 100   2   1]\n"
     ]
    }
   ],
   "source": [
    "x = np.array([4,10,1,20,45,100,2,1])\n",
    "print(\"x\\n\", x)"
   ]
  },
  {
   "cell_type": "code",
   "execution_count": 48,
   "id": "4526b18a",
   "metadata": {
    "scrolled": true
   },
   "outputs": [
    {
     "name": "stdout",
     "output_type": "stream",
     "text": [
      "sort =\n",
      " [  1   1   2   4  10  20  45 100]\n"
     ]
    }
   ],
   "source": [
    "print('sort =\\n', np.sort(x))"
   ]
  },
  {
   "cell_type": "markdown",
   "id": "11dd2dbd",
   "metadata": {},
   "source": [
    "* argsort() : 정렬 후 인덱스 반환"
   ]
  },
  {
   "cell_type": "code",
   "execution_count": 50,
   "id": "43016e0f",
   "metadata": {},
   "outputs": [
    {
     "name": "stdout",
     "output_type": "stream",
     "text": [
      "argsort =\n",
      " [2 7 6 0 1 3 4 5]\n"
     ]
    }
   ],
   "source": [
    "print('argsort =\\n', np.argsort(x))"
   ]
  },
  {
   "cell_type": "markdown",
   "id": "0a065ed8",
   "metadata": {},
   "source": [
    "* partition(x, n) : 정렬 후 인덱스가 n 인 값을 기준으로 분할\n",
    "    * 기준 값에서 왼쪽은 작은 값, 오른쪽은 큰값(순서 상관x)"
   ]
  },
  {
   "cell_type": "code",
   "execution_count": 54,
   "id": "19414825",
   "metadata": {
    "scrolled": true
   },
   "outputs": [
    {
     "name": "stdout",
     "output_type": "stream",
     "text": [
      "partition first 3 =\n",
      " [  2   1   1   4  45 100  10  20]\n"
     ]
    }
   ],
   "source": [
    "print('partition first 3 =\\n', np.partition(x,3))"
   ]
  },
  {
   "cell_type": "markdown",
   "id": "48d3db5a",
   "metadata": {},
   "source": [
    "* argpartition(x,n) : partition 후 원래의 array 에서 인덱스 반환"
   ]
  },
  {
   "cell_type": "code",
   "execution_count": 56,
   "id": "3e4e64d1",
   "metadata": {},
   "outputs": [
    {
     "name": "stdout",
     "output_type": "stream",
     "text": [
      "argpartition first 3 = \n",
      " [6 7 2 0 4 5 1 3]\n"
     ]
    }
   ],
   "source": [
    "print('argpartition first 3 = \\n', np.argpartition(x,3))"
   ]
  },
  {
   "cell_type": "code",
   "execution_count": 63,
   "id": "d81b4392",
   "metadata": {},
   "outputs": [
    {
     "name": "stdout",
     "output_type": "stream",
     "text": [
      "T\n",
      " [[ 2  2]\n",
      " [-1 10]\n",
      " [ 0  1]]\n",
      "\n",
      "np.sum(T, axis=1) =  [4 9 1]\n",
      "\n",
      "I\n",
      " [2 0 1]\n",
      "\n",
      "[[ 0  1]\n",
      " [ 2  2]\n",
      " [-1 10]]\n"
     ]
    }
   ],
   "source": [
    "T = np.array([[2,2], [-1,10], [0,1]])\n",
    "I = np.argsort(np.sum(T, axis=1))\n",
    "print(\"T\\n\", T)\n",
    "print()\n",
    "print('np.sum(T, axis=1) = ',np.sum(T, axis=1))\n",
    "print()\n",
    "print(\"I\\n\", I)\n",
    "print()\n",
    "print(T[I,:])"
   ]
  },
  {
   "cell_type": "markdown",
   "id": "0005b95c",
   "metadata": {},
   "source": [
    "# Vectorized function\n",
    "* similar to map function"
   ]
  },
  {
   "cell_type": "code",
   "execution_count": 66,
   "id": "cbd6d588",
   "metadata": {},
   "outputs": [
    {
     "name": "stdout",
     "output_type": "stream",
     "text": [
      "[ 123 2312  423   12]\n"
     ]
    }
   ],
   "source": [
    "u = np.array([23,2312,423,12])\n",
    "v = np.array([123,32,113,12])\n",
    "w = np.array([2,4,3,8])\n",
    "print(np.vectorize(max)(u,v,w))"
   ]
  },
  {
   "cell_type": "code",
   "execution_count": 75,
   "id": "f55c864c",
   "metadata": {},
   "outputs": [
    {
     "name": "stdout",
     "output_type": "stream",
     "text": [
      "[121.  28. 110.   4.]\n"
     ]
    }
   ],
   "source": [
    "dist = np.vectorize(lambda x,y : np.sqrt(np.sum((x-y)**2,axis=0)))\n",
    "print(dist(v,w))"
   ]
  }
 ],
 "metadata": {
  "kernelspec": {
   "display_name": "Python 3 (ipykernel)",
   "language": "python",
   "name": "python3"
  },
  "language_info": {
   "codemirror_mode": {
    "name": "ipython",
    "version": 3
   },
   "file_extension": ".py",
   "mimetype": "text/x-python",
   "name": "python",
   "nbconvert_exporter": "python",
   "pygments_lexer": "ipython3",
   "version": "3.9.7"
  }
 },
 "nbformat": 4,
 "nbformat_minor": 5
}
