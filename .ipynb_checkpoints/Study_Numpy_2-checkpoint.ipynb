{
 "cells": [
  {
   "cell_type": "code",
   "execution_count": 1,
   "id": "14b4480f",
   "metadata": {},
   "outputs": [],
   "source": [
    "import numpy as np"
   ]
  },
  {
   "cell_type": "markdown",
   "id": "8720755e",
   "metadata": {},
   "source": [
    "# Numpy Arthmetic and Statistical Functions\n"
   ]
  },
  {
   "cell_type": "markdown",
   "id": "6bd9c6f2",
   "metadata": {},
   "source": [
    "* abs()\n",
    "* sqrt()\n",
    "* sign()\n",
    "* exp()\n",
    "* sort()"
   ]
  },
  {
   "cell_type": "code",
   "execution_count": 2,
   "id": "bcf6ff09",
   "metadata": {},
   "outputs": [
    {
     "name": "stdout",
     "output_type": "stream",
     "text": [
      "[-1.4  0.4 -3.2  2.5  3.4]\n"
     ]
    }
   ],
   "source": [
    "y = np.array([-1.4, 0.4, -3.2, 2.5, 3.4])\n",
    "print(y)"
   ]
  },
  {
   "cell_type": "code",
   "execution_count": 3,
   "id": "37f597d0",
   "metadata": {},
   "outputs": [
    {
     "name": "stdout",
     "output_type": "stream",
     "text": [
      "[1.4 0.4 3.2 2.5 3.4]\n"
     ]
    }
   ],
   "source": [
    "print(np.abs(y))"
   ]
  },
  {
   "cell_type": "code",
   "execution_count": 4,
   "id": "7416022f",
   "metadata": {
    "scrolled": true
   },
   "outputs": [
    {
     "name": "stdout",
     "output_type": "stream",
     "text": [
      "[       nan 0.63245553        nan 1.58113883 1.84390889]\n"
     ]
    },
    {
     "name": "stderr",
     "output_type": "stream",
     "text": [
      "C:\\Users\\leedo\\AppData\\Local\\Temp/ipykernel_37876/996839701.py:1: RuntimeWarning: invalid value encountered in sqrt\n",
      "  print(np.sqrt(y))\n"
     ]
    }
   ],
   "source": [
    "print(np.sqrt(y)) #절대값을 취해줘야함"
   ]
  },
  {
   "cell_type": "code",
   "execution_count": 5,
   "id": "54902a15",
   "metadata": {},
   "outputs": [
    {
     "name": "stdout",
     "output_type": "stream",
     "text": [
      "[1.18321596 0.63245553 1.78885438 1.58113883 1.84390889]\n"
     ]
    }
   ],
   "source": [
    "print(np.sqrt(abs(y)))"
   ]
  },
  {
   "cell_type": "code",
   "execution_count": 6,
   "id": "ca7edfb4",
   "metadata": {},
   "outputs": [
    {
     "name": "stdout",
     "output_type": "stream",
     "text": [
      "[-1.  1. -1.  1.  1.]\n"
     ]
    }
   ],
   "source": [
    "print(np.sign(y)) #부호"
   ]
  },
  {
   "cell_type": "code",
   "execution_count": 7,
   "id": "f5595226",
   "metadata": {},
   "outputs": [
    {
     "name": "stdout",
     "output_type": "stream",
     "text": [
      "[ 0.24659696  1.4918247   0.0407622  12.18249396 29.96410005]\n"
     ]
    }
   ],
   "source": [
    "print(np.exp(y))"
   ]
  },
  {
   "cell_type": "code",
   "execution_count": 9,
   "id": "38595332",
   "metadata": {},
   "outputs": [
    {
     "name": "stdout",
     "output_type": "stream",
     "text": [
      "[-3.2 -1.4  0.4  2.5  3.4]\n"
     ]
    }
   ],
   "source": [
    "print(np.sort(y))"
   ]
  },
  {
   "cell_type": "code",
   "execution_count": 10,
   "id": "ec796724",
   "metadata": {},
   "outputs": [
    {
     "name": "stdout",
     "output_type": "stream",
     "text": [
      "[-1.4  0.4 -3.2  2.5  3.4]\n"
     ]
    }
   ],
   "source": [
    "print(y)"
   ]
  },
  {
   "cell_type": "markdown",
   "id": "d41bb78e",
   "metadata": {},
   "source": [
    "* add()\n",
    "* subtract()\n",
    "* multiply()\n",
    "* divide()\n",
    "* maximum()"
   ]
  },
  {
   "cell_type": "code",
   "execution_count": 28,
   "id": "0c2a5a72",
   "metadata": {},
   "outputs": [
    {
     "name": "stdout",
     "output_type": "stream",
     "text": [
      "[-2 -1  0  1  2]\n",
      "[-4 -2  0  2  4]\n"
     ]
    }
   ],
   "source": [
    "x = np.arange(-2,3)\n",
    "y = np.arange(-4,6,2)\n",
    "print(x)\n",
    "print(y)"
   ]
  },
  {
   "cell_type": "code",
   "execution_count": 29,
   "id": "4bfabcdb",
   "metadata": {},
   "outputs": [
    {
     "name": "stdout",
     "output_type": "stream",
     "text": [
      "[-6 -3  0  3  6]\n"
     ]
    }
   ],
   "source": [
    "print(np.add(x,y))"
   ]
  },
  {
   "cell_type": "code",
   "execution_count": 30,
   "id": "271cf198",
   "metadata": {},
   "outputs": [
    {
     "name": "stdout",
     "output_type": "stream",
     "text": [
      "[ 2  1  0 -1 -2]\n"
     ]
    }
   ],
   "source": [
    "print(np.subtract(x,y))"
   ]
  },
  {
   "cell_type": "code",
   "execution_count": 31,
   "id": "a9009ac2",
   "metadata": {},
   "outputs": [
    {
     "name": "stdout",
     "output_type": "stream",
     "text": [
      "[8 2 0 2 8]\n"
     ]
    }
   ],
   "source": [
    "print(np.multiply(x,y))"
   ]
  },
  {
   "cell_type": "code",
   "execution_count": 32,
   "id": "b685f001",
   "metadata": {},
   "outputs": [
    {
     "name": "stdout",
     "output_type": "stream",
     "text": [
      "[0.5 0.5 nan 0.5 0.5]\n"
     ]
    },
    {
     "name": "stderr",
     "output_type": "stream",
     "text": [
      "C:\\Users\\leedo\\AppData\\Local\\Temp/ipykernel_37876/2793363925.py:1: RuntimeWarning: invalid value encountered in true_divide\n",
      "  print(np.divide(x,y))\n"
     ]
    }
   ],
   "source": [
    "print(np.divide(x,y))"
   ]
  },
  {
   "cell_type": "code",
   "execution_count": 33,
   "id": "a0552825",
   "metadata": {},
   "outputs": [
    {
     "name": "stdout",
     "output_type": "stream",
     "text": [
      "[-2 -1  0  2  4]\n"
     ]
    }
   ],
   "source": [
    "print(np.maximum(x,y))"
   ]
  },
  {
   "cell_type": "markdown",
   "id": "932196f3",
   "metadata": {},
   "source": [
    "* min()\n",
    "* max()"
   ]
  },
  {
   "cell_type": "code",
   "execution_count": 35,
   "id": "618ac5c2",
   "metadata": {},
   "outputs": [
    {
     "name": "stdout",
     "output_type": "stream",
     "text": [
      "[-0.80007796 -0.76465753  0.446192    0.75482345  0.77854932]\n"
     ]
    }
   ],
   "source": [
    "y = np.random.randn(5)\n",
    "print(y)"
   ]
  },
  {
   "cell_type": "code",
   "execution_count": 38,
   "id": "3cc7b28b",
   "metadata": {},
   "outputs": [
    {
     "name": "stdout",
     "output_type": "stream",
     "text": [
      "0.7785493173749486\n"
     ]
    }
   ],
   "source": [
    "print(np.max(y))"
   ]
  },
  {
   "cell_type": "code",
   "execution_count": 39,
   "id": "f425389d",
   "metadata": {
    "scrolled": true
   },
   "outputs": [
    {
     "name": "stdout",
     "output_type": "stream",
     "text": [
      "-0.8000779616535834\n"
     ]
    }
   ],
   "source": [
    "print(np.min(y))"
   ]
  },
  {
   "cell_type": "markdown",
   "id": "c9d58632",
   "metadata": {},
   "source": [
    "* sum()"
   ]
  },
  {
   "cell_type": "code",
   "execution_count": 46,
   "id": "433a8f70",
   "metadata": {},
   "outputs": [
    {
     "name": "stdout",
     "output_type": "stream",
     "text": [
      "0.4148292767311498\n"
     ]
    }
   ],
   "source": [
    "print(np.sum(y))"
   ]
  },
  {
   "cell_type": "markdown",
   "id": "7af92a0e",
   "metadata": {},
   "source": [
    "* mean()\n",
    " * mean/average"
   ]
  },
  {
   "cell_type": "code",
   "execution_count": 44,
   "id": "8bf595d8",
   "metadata": {},
   "outputs": [
    {
     "name": "stdout",
     "output_type": "stream",
     "text": [
      "0.08296585534622995\n"
     ]
    }
   ],
   "source": [
    "print(np.mean(y))"
   ]
  },
  {
   "cell_type": "markdown",
   "id": "4e9dfde0",
   "metadata": {},
   "source": [
    "* std()\n",
    "    * standard deviation(표준편차)\n"
   ]
  },
  {
   "cell_type": "code",
   "execution_count": 45,
   "id": "11cde909",
   "metadata": {},
   "outputs": [
    {
     "name": "stdout",
     "output_type": "stream",
     "text": [
      "0.7162951900212876\n"
     ]
    }
   ],
   "source": [
    "print(np.std(y))"
   ]
  },
  {
   "cell_type": "markdown",
   "id": "776c7aff",
   "metadata": {},
   "source": [
    "* argwhere()\n",
    "    * indexes satisfying condition\n",
    "    * 조건을 만족시키는 인덱스"
   ]
  },
  {
   "cell_type": "code",
   "execution_count": 47,
   "id": "cefcbe4e",
   "metadata": {},
   "outputs": [
    {
     "name": "stdout",
     "output_type": "stream",
     "text": [
      "[[ 0  1  2  3  4]\n",
      " [ 5  6  7  8  9]\n",
      " [10 11 12 13 14]\n",
      " [15 16 17 18 19]\n",
      " [20 21 22 23 24]]\n"
     ]
    }
   ],
   "source": [
    "M = np.arange(25).reshape(5,5)\n",
    "print(M)"
   ]
  },
  {
   "cell_type": "code",
   "execution_count": 48,
   "id": "41935776",
   "metadata": {
    "scrolled": true
   },
   "outputs": [
    {
     "name": "stdout",
     "output_type": "stream",
     "text": [
      "[ 1  3  5  7  9 11 13 15 17 19 21 23]\n"
     ]
    }
   ],
   "source": [
    "print(M[M%2==1])"
   ]
  },
  {
   "cell_type": "code",
   "execution_count": 49,
   "id": "dd148d2a",
   "metadata": {},
   "outputs": [
    {
     "name": "stdout",
     "output_type": "stream",
     "text": [
      "[[ 0  1  2  3  4]\n",
      " [ 5  6  7  8  9]\n",
      " [10 11 12 13 14]\n",
      " [15 16 17 18 19]\n",
      " [20 21 22 23 24]]\n"
     ]
    }
   ],
   "source": [
    "print(M)"
   ]
  },
  {
   "cell_type": "code",
   "execution_count": 54,
   "id": "96ec28ed",
   "metadata": {},
   "outputs": [
    {
     "name": "stdout",
     "output_type": "stream",
     "text": [
      "[[4 0]\n",
      " [4 1]\n",
      " [4 2]\n",
      " [4 3]\n",
      " [4 4]]\n"
     ]
    }
   ],
   "source": [
    "print(np.argwhere(M>=20))"
   ]
  },
  {
   "cell_type": "code",
   "execution_count": 62,
   "id": "7ce5e20a",
   "metadata": {},
   "outputs": [
    {
     "name": "stdout",
     "output_type": "stream",
     "text": [
      "[[ 0  1  0  3  0]\n",
      " [ 5  0  7  0  9]\n",
      " [ 0 11  0 13  0]\n",
      " [15  0 17  0 19]\n",
      " [ 0 21  0 23  0]]\n"
     ]
    }
   ],
   "source": [
    "#홀수인 원소는 그대로, 짝수인 원소는 0으로 \n",
    "print(np.where(M%2==1,M,0)) "
   ]
  },
  {
   "cell_type": "markdown",
   "id": "b32e5dd2",
   "metadata": {},
   "source": [
    "# New axis\n",
    "* 새로운 축 추가/ 차원 확대"
   ]
  },
  {
   "cell_type": "code",
   "execution_count": 66,
   "id": "555e21f0",
   "metadata": {},
   "outputs": [
    {
     "name": "stdout",
     "output_type": "stream",
     "text": [
      "(3,)\n"
     ]
    }
   ],
   "source": [
    "t = np.array([1,2,3])\n",
    "print(t.shape)"
   ]
  },
  {
   "cell_type": "code",
   "execution_count": 71,
   "id": "e23a23f0",
   "metadata": {},
   "outputs": [
    {
     "name": "stdout",
     "output_type": "stream",
     "text": [
      "[[1 2 3]]\n",
      "(1, 3)\n"
     ]
    }
   ],
   "source": [
    "x = t[np.newaxis, :]\n",
    "print(x)\n",
    "print(x.shape)"
   ]
  },
  {
   "cell_type": "code",
   "execution_count": 72,
   "id": "01aa0fd9",
   "metadata": {},
   "outputs": [
    {
     "name": "stdout",
     "output_type": "stream",
     "text": [
      "[[1]\n",
      " [2]\n",
      " [3]]\n",
      "(3, 1)\n"
     ]
    }
   ],
   "source": [
    "y = t[:, np.newaxis]\n",
    "print(y)\n",
    "print(y.shape)"
   ]
  },
  {
   "cell_type": "code",
   "execution_count": 73,
   "id": "12c87300",
   "metadata": {},
   "outputs": [
    {
     "name": "stdout",
     "output_type": "stream",
     "text": [
      "[1 2 3]\n",
      "[[1 2 3]]\n",
      "[[1]\n",
      " [2]\n",
      " [3]]\n"
     ]
    }
   ],
   "source": [
    "print(t)\n",
    "print(x)\n",
    "print(y)"
   ]
  },
  {
   "cell_type": "code",
   "execution_count": null,
   "id": "579ef90c",
   "metadata": {},
   "outputs": [],
   "source": []
  }
 ],
 "metadata": {
  "kernelspec": {
   "display_name": "Python 3 (ipykernel)",
   "language": "python",
   "name": "python3"
  },
  "language_info": {
   "codemirror_mode": {
    "name": "ipython",
    "version": 3
   },
   "file_extension": ".py",
   "mimetype": "text/x-python",
   "name": "python",
   "nbconvert_exporter": "python",
   "pygments_lexer": "ipython3",
   "version": "3.9.7"
  }
 },
 "nbformat": 4,
 "nbformat_minor": 5
}
