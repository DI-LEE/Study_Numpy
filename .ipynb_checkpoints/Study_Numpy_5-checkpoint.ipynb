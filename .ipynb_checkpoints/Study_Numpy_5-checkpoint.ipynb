{
 "cells": [
  {
   "cell_type": "code",
   "execution_count": 2,
   "id": "c461d070",
   "metadata": {},
   "outputs": [],
   "source": [
    "import numpy as np"
   ]
  },
  {
   "cell_type": "markdown",
   "id": "9c52aa8a",
   "metadata": {},
   "source": [
    "# Numpy Linear algebra"
   ]
  },
  {
   "cell_type": "markdown",
   "id": "3572d1f5",
   "metadata": {},
   "source": [
    "### 행렬 또는 백터의 전치\n",
    "* Transpose"
   ]
  },
  {
   "cell_type": "code",
   "execution_count": 26,
   "id": "636254a5",
   "metadata": {},
   "outputs": [
    {
     "name": "stdout",
     "output_type": "stream",
     "text": [
      "[[-0.98441934 -0.19670871  0.78582873]\n",
      " [-1.08323025  0.0453799   2.29914439]]\n",
      "[[-0.98441934 -1.08323025]\n",
      " [-0.19670871  0.0453799 ]\n",
      " [ 0.78582873  2.29914439]]\n"
     ]
    }
   ],
   "source": [
    "x = np.random.randn(2,3)\n",
    "print(x)\n",
    "print(x.T)"
   ]
  },
  {
   "cell_type": "markdown",
   "id": "eaea7b44",
   "metadata": {},
   "source": [
    "### 벡터의 연산"
   ]
  },
  {
   "cell_type": "code",
   "execution_count": 27,
   "id": "b4b9159b",
   "metadata": {
    "scrolled": true
   },
   "outputs": [
    {
     "name": "stdout",
     "output_type": "stream",
     "text": [
      "[[ 1  2  3  4  5]\n",
      " [ 6  7  8  9 10]]\n",
      "[[ 1  2]\n",
      " [ 3  4]\n",
      " [ 5  6]\n",
      " [ 7  8]\n",
      " [ 9 10]]\n"
     ]
    }
   ],
   "source": [
    "a= np.arange(1,10+1).reshape(2,5)\n",
    "b= np.arange(1,10+1).reshape(5,2)\n",
    "print(a)\n",
    "print(b)"
   ]
  },
  {
   "cell_type": "markdown",
   "id": "d7b04408",
   "metadata": {},
   "source": [
    "### np.dot()\n",
    "* 벡터/행렬의 multiplication 연산 "
   ]
  },
  {
   "cell_type": "code",
   "execution_count": 28,
   "id": "2e505bc5",
   "metadata": {},
   "outputs": [
    {
     "name": "stdout",
     "output_type": "stream",
     "text": [
      "[[ 95 110]\n",
      " [220 260]]\n",
      "[[ 95 110]\n",
      " [220 260]]\n"
     ]
    }
   ],
   "source": [
    "print(np.dot(a,b))\n",
    "print(a.dot(b))"
   ]
  },
  {
   "cell_type": "markdown",
   "id": "b070d07a",
   "metadata": {},
   "source": [
    "### 벡터의 내적\n",
    "* dot product/inner product"
   ]
  },
  {
   "cell_type": "code",
   "execution_count": 29,
   "id": "1bbe8265",
   "metadata": {},
   "outputs": [
    {
     "name": "stdout",
     "output_type": "stream",
     "text": [
      "[1 2 3 4 5 6 7 8 9]\n",
      "[10  9  8  7  6  5  4  3  2]\n"
     ]
    }
   ],
   "source": [
    "A = np.arange(1,10)\n",
    "B = np.arange(10,1,-1)\n",
    "print(A)\n",
    "print(B)"
   ]
  },
  {
   "cell_type": "code",
   "execution_count": 30,
   "id": "fbd2249b",
   "metadata": {},
   "outputs": [
    {
     "name": "stdout",
     "output_type": "stream",
     "text": [
      "210\n"
     ]
    }
   ],
   "source": [
    "print(np.dot(A.T, B))"
   ]
  },
  {
   "cell_type": "code",
   "execution_count": 31,
   "id": "25310018",
   "metadata": {},
   "outputs": [
    {
     "data": {
      "text/plain": [
       "210"
      ]
     },
     "execution_count": 31,
     "metadata": {},
     "output_type": "execute_result"
    }
   ],
   "source": [
    "10 + 18 + 24 + 28 + 30 + 30 + 28 + 24 + 18"
   ]
  },
  {
   "cell_type": "markdown",
   "id": "acae2a52",
   "metadata": {},
   "source": [
    "### 여러가지 행렬"
   ]
  },
  {
   "cell_type": "code",
   "execution_count": 32,
   "id": "c387165f",
   "metadata": {},
   "outputs": [
    {
     "name": "stdout",
     "output_type": "stream",
     "text": [
      "[[-0.98441934 -0.19670871  0.78582873]\n",
      " [-1.08323025  0.0453799   2.29914439]]\n"
     ]
    }
   ],
   "source": [
    "n = np.random.randn(5,3)\n",
    "print(x)"
   ]
  },
  {
   "cell_type": "code",
   "execution_count": 34,
   "id": "c2ce2d5d",
   "metadata": {
    "scrolled": true
   },
   "outputs": [
    {
     "name": "stdout",
     "output_type": "stream",
     "text": [
      "[[ 2.14246921  0.14448697 -3.26408776]\n",
      " [ 0.14448697  0.04075365 -0.0502444 ]\n",
      " [-3.26408776 -0.0502444   5.90359172]]\n"
     ]
    }
   ],
   "source": [
    "c = np.dot(x.T, x) # (3,5) * (5,3) = (3,3) square matrix(정방행렬)\n",
    "print(c)"
   ]
  },
  {
   "cell_type": "markdown",
   "id": "61b84ea9",
   "metadata": {},
   "source": [
    "### Inverse of square matrix (역행렬)"
   ]
  },
  {
   "cell_type": "code",
   "execution_count": 36,
   "id": "6d021c3d",
   "metadata": {},
   "outputs": [
    {
     "name": "stdout",
     "output_type": "stream",
     "text": [
      "[[-6.68739654e+16  1.93538857e+17 -3.53273494e+16]\n",
      " [ 1.93538857e+17 -5.60117664e+17  1.02240308e+17]\n",
      " [-3.53273494e+16  1.02240308e+17 -1.86622942e+16]]\n"
     ]
    }
   ],
   "source": [
    "invC = np.linalg.inv(c)\n",
    "print(invC)"
   ]
  },
  {
   "cell_type": "markdown",
   "id": "c4209d9a",
   "metadata": {},
   "source": [
    "### determinant of square matrix (행렬식)"
   ]
  },
  {
   "cell_type": "code",
   "execution_count": 38,
   "id": "eaa8c513",
   "metadata": {},
   "outputs": [
    {
     "name": "stdout",
     "output_type": "stream",
     "text": [
      "-3.559956659372248e-18\n"
     ]
    }
   ],
   "source": [
    "detC = np.linalg.det(c)\n",
    "print(detC)"
   ]
  },
  {
   "cell_type": "markdown",
   "id": "9a095476",
   "metadata": {},
   "source": [
    "### Eigenvalue(고유값) and Eigenvector(고유벡터) of square matrix"
   ]
  },
  {
   "cell_type": "code",
   "execution_count": 41,
   "id": "8042cd02",
   "metadata": {},
   "outputs": [
    {
     "name": "stdout",
     "output_type": "stream",
     "text": [
      "[7.79182596e+00 2.94988620e-01 5.01667323e-16]\n",
      "[[-0.50050994 -0.8036879  -0.32183157]\n",
      " [-0.01494101 -0.36367129  0.93140751]\n",
      " [ 0.86560185 -0.4709872  -0.17001319]]\n"
     ]
    }
   ],
   "source": [
    "S, U = np.linalg.eig(c)\n",
    "print(S)\n",
    "print(U) "
   ]
  },
  {
   "cell_type": "markdown",
   "id": "5d8dd921",
   "metadata": {},
   "source": [
    "### Norm(벡터의 크기)"
   ]
  },
  {
   "cell_type": "code",
   "execution_count": 43,
   "id": "fda34c78",
   "metadata": {
    "scrolled": true
   },
   "outputs": [
    {
     "name": "stdout",
     "output_type": "stream",
     "text": [
      "2.23606797749979\n",
      "2.23606797749979\n"
     ]
    }
   ],
   "source": [
    "x = np.array([1,2])\n",
    "print(np.linalg.norm(x))\n",
    "print(np.sqrt(np.sum(x**2, axis=0)))"
   ]
  },
  {
   "cell_type": "markdown",
   "id": "d3aed35a",
   "metadata": {},
   "source": [
    "#### 2-norm"
   ]
  },
  {
   "cell_type": "code",
   "execution_count": 46,
   "id": "2e7d48c0",
   "metadata": {},
   "outputs": [
    {
     "name": "stdout",
     "output_type": "stream",
     "text": [
      "2.23606797749979\n"
     ]
    }
   ],
   "source": [
    "print(np.linalg.norm(x))"
   ]
  },
  {
   "cell_type": "markdown",
   "id": "fa2bb180",
   "metadata": {},
   "source": [
    "#### 1-norm"
   ]
  },
  {
   "cell_type": "code",
   "execution_count": 47,
   "id": "eeea3d34",
   "metadata": {},
   "outputs": [
    {
     "name": "stdout",
     "output_type": "stream",
     "text": [
      "3.0\n"
     ]
    }
   ],
   "source": [
    "print(np.linalg.norm(x, ord=1))"
   ]
  },
  {
   "cell_type": "markdown",
   "id": "d1ebeee7",
   "metadata": {},
   "source": [
    "#### inf-norm "
   ]
  },
  {
   "cell_type": "markdown",
   "id": "d53c9fc2",
   "metadata": {},
   "source": [
    "* 거리가 원소의 최대값으로 설정"
   ]
  },
  {
   "cell_type": "code",
   "execution_count": 48,
   "id": "c3a9d2fc",
   "metadata": {
    "scrolled": true
   },
   "outputs": [
    {
     "name": "stdout",
     "output_type": "stream",
     "text": [
      "2.0\n"
     ]
    }
   ],
   "source": [
    "print(np.linalg.norm(x, ord=np.inf))"
   ]
  },
  {
   "cell_type": "markdown",
   "id": "f8045e9f",
   "metadata": {},
   "source": [
    "\n",
    "* 거리가 원소의 최소값으로 설정"
   ]
  },
  {
   "cell_type": "code",
   "execution_count": 49,
   "id": "a24cf583",
   "metadata": {},
   "outputs": [
    {
     "name": "stdout",
     "output_type": "stream",
     "text": [
      "1.0\n"
     ]
    }
   ],
   "source": [
    "print(np.linalg.norm(x, ord=-np.inf))"
   ]
  },
  {
   "cell_type": "markdown",
   "id": "5501503d",
   "metadata": {},
   "source": [
    "#### cosine and distance"
   ]
  },
  {
   "cell_type": "code",
   "execution_count": 72,
   "id": "25e1dcf5",
   "metadata": {},
   "outputs": [
    {
     "name": "stdout",
     "output_type": "stream",
     "text": [
      "cosine = 0.0\n",
      "cosine = 0.0\n"
     ]
    }
   ],
   "source": [
    "import math\n",
    "x = np.array([1,0])\n",
    "y = np.array([0,1])\n",
    "print(\"cosine =\", x.dot(y) / (math.sqrt((x.dot(x)) * math.sqrt((y.dot(y))))))\n",
    "print(\"cosine =\", x.dot(y)/(np.linalg.norm(x) * np.linalg.norm(y)))"
   ]
  },
  {
   "cell_type": "markdown",
   "id": "3e5154b7",
   "metadata": {},
   "source": [
    "# distance matrix"
   ]
  },
  {
   "cell_type": "markdown",
   "id": "3129a64f",
   "metadata": {},
   "source": [
    "* ndim = 1 (1차원)"
   ]
  },
  {
   "cell_type": "code",
   "execution_count": 54,
   "id": "d8cb60c7",
   "metadata": {},
   "outputs": [
    {
     "name": "stdout",
     "output_type": "stream",
     "text": [
      "[[0. 1. 2. 3. 4.]\n",
      " [1. 0. 1. 2. 3.]\n",
      " [2. 1. 0. 1. 2.]\n",
      " [3. 2. 1. 0. 1.]\n",
      " [4. 3. 2. 1. 0.]]\n"
     ]
    }
   ],
   "source": [
    "pts = np.array([1.,2,3,4,5])\n",
    "u = pts[:, np.newaxis]\n",
    "v = pts[np.newaxis, :]\n",
    "print(np.abs(u-v))"
   ]
  },
  {
   "cell_type": "markdown",
   "id": "c2bbd73b",
   "metadata": {},
   "source": [
    "### n차원 distance matrix\n",
    "* ndim = 2 (2차원)\n"
   ]
  },
  {
   "cell_type": "code",
   "execution_count": 58,
   "id": "cc4a1717",
   "metadata": {},
   "outputs": [
    {
     "name": "stdout",
     "output_type": "stream",
     "text": [
      "(3, 2)\n"
     ]
    }
   ],
   "source": [
    "pts = np.array([[1,0], [1,1], [0,1]])\n",
    "print(pts.shape)"
   ]
  },
  {
   "cell_type": "code",
   "execution_count": 63,
   "id": "67892cf0",
   "metadata": {},
   "outputs": [
    {
     "name": "stdout",
     "output_type": "stream",
     "text": [
      "(3, 2, 1)\n",
      "(1, 2, 3)\n"
     ]
    }
   ],
   "source": [
    "u = pts[:, :, np.newaxis]\n",
    "v = pts.T[np.newaxis, :, :]\n",
    "print(u.shape)\n",
    "print(v.shape)"
   ]
  },
  {
   "cell_type": "code",
   "execution_count": 64,
   "id": "6abaa6ca",
   "metadata": {},
   "outputs": [
    {
     "data": {
      "text/plain": [
       "array([[0.        , 1.        , 1.41421356],\n",
       "       [1.        , 0.        , 1.        ],\n",
       "       [1.41421356, 1.        , 0.        ]])"
      ]
     },
     "execution_count": 64,
     "metadata": {},
     "output_type": "execute_result"
    }
   ],
   "source": [
    "np.linalg.norm(u-v, axis = 1)"
   ]
  },
  {
   "cell_type": "code",
   "execution_count": 66,
   "id": "5820bcf9",
   "metadata": {
    "scrolled": true
   },
   "outputs": [
    {
     "data": {
      "text/plain": [
       "array([[0.        , 1.        , 1.41421356],\n",
       "       [1.        , 0.        , 1.        ],\n",
       "       [1.41421356, 1.        , 0.        ]])"
      ]
     },
     "execution_count": 66,
     "metadata": {},
     "output_type": "execute_result"
    }
   ],
   "source": [
    " np.sqrt(np.sum((u-v)**2, axis = 1))"
   ]
  },
  {
   "cell_type": "markdown",
   "id": "4a84f2f4",
   "metadata": {},
   "source": [
    "* sklearn.metrics.pairwise"
   ]
  },
  {
   "cell_type": "code",
   "execution_count": 76,
   "id": "96bc47c1",
   "metadata": {
    "scrolled": true
   },
   "outputs": [
    {
     "name": "stdout",
     "output_type": "stream",
     "text": [
      "[[0.         1.         1.41421356]\n",
      " [1.         0.         1.        ]\n",
      " [1.41421356 1.         0.        ]]\n",
      "[[0. 1. 2.]\n",
      " [1. 0. 1.]\n",
      " [2. 1. 0.]]\n",
      "[[1.         0.70710678 0.        ]\n",
      " [0.70710678 1.         0.70710678]\n",
      " [0.         0.70710678 1.        ]]\n"
     ]
    }
   ],
   "source": [
    "from sklearn.metrics.pairwise import euclidean_distances, manhattan_distances, cosine_similarity\n",
    "\n",
    "print(euclidean_distances(pts))\n",
    "print(manhattan_distances(pts))\n",
    "print(cosine_similarity(pts))"
   ]
  },
  {
   "cell_type": "markdown",
   "id": "ce5d9869",
   "metadata": {},
   "source": [
    "* inf_dist"
   ]
  },
  {
   "cell_type": "code",
   "execution_count": 77,
   "id": "1e02350b",
   "metadata": {},
   "outputs": [
    {
     "name": "stdout",
     "output_type": "stream",
     "text": [
      "[[0. 1. 1.]\n",
      " [1. 0. 1.]\n",
      " [1. 1. 0.]]\n"
     ]
    }
   ],
   "source": [
    "from sklearn.metrics.pairwise import pairwise_distances\n",
    "\n",
    "inf_dist = lambda x, y : np.max(np.abs(x-y))\n",
    "print(pairwise_distances(pts, metric=inf_dist))"
   ]
  }
 ],
 "metadata": {
  "kernelspec": {
   "display_name": "Python 3 (ipykernel)",
   "language": "python",
   "name": "python3"
  },
  "language_info": {
   "codemirror_mode": {
    "name": "ipython",
    "version": 3
   },
   "file_extension": ".py",
   "mimetype": "text/x-python",
   "name": "python",
   "nbconvert_exporter": "python",
   "pygments_lexer": "ipython3",
   "version": "3.9.7"
  }
 },
 "nbformat": 4,
 "nbformat_minor": 5
}
